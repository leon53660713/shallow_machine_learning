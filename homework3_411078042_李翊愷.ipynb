{
 "cells": [
  {
   "cell_type": "markdown",
   "id": "9c4b2ff6",
   "metadata": {
    "ExecuteTime": {
     "end_time": "2024-05-11T09:16:12.063949Z",
     "start_time": "2024-05-11T09:16:12.032866Z"
    }
   },
   "source": [
    "<FONT size = 7><B>Homework_3 淺度機器學習分類器的評比實驗<B/></FONT>\n",
    "\n",
    "<font face=\"標楷體\" size = 5> 學號 : 411078042  <br>\n",
    "姓名 : 李翊愷 </font>\n",
    "\n",
    "<font color=#D36010>目標</font> ： <br>\n",
    "* 比較不同資料對於相同分類器的差別 <br>\n",
    "* 比較相同資料對於不同分類器的差別 <br>\n",
    "* 比較他們之間的效能"
   ]
  },
  {
   "cell_type": "markdown",
   "id": "0a6e1cf6",
   "metadata": {},
   "source": [
    "# 各資料的成果文件\n",
    "這裡可以通往 3 份不同的資料\n",
    "裡面包含了使用不同分類器得到的結果以及一些比較\n",
    "\n",
    "## .ipynb file (推薦)\n",
    "### <a href=\"wine_data.ipynb\">Wine dataset</a>\n",
    "### <a href=\"ATT_face_data.ipynb\">AT&T face data</a>\n",
    "### <a href=\"yale_face_data.ipynb\">yale face data</a>\n",
    "\n",
    "---\n",
    "\n",
    "## .html file (因為有 verbose，不推薦)\n"
   ]
  },
  {
   "cell_type": "markdown",
   "id": "6a4ec7b4",
   "metadata": {},
   "source": [
    "# 介紹撰寫好的函式\n",
    "函式名稱為 `ML_func.py` <br>\n",
    "當中包含 2 種功能 : <br>\n",
    "* 資料預處理 <br>\n",
    "* 模型評估數值 <br>\n",
    "\n",
    "---\n",
    "\n",
    "**資料預處理 (`preprocess_data`)** <br>\n",
    "首先需要輸入 X, y 以及 seed <br>\n",
    "也就是需要進行拆分的資料以及種子碼(固定相同切分) <br>\n",
    "當中固定把資料以 8:2 拆成訓練集跟測試集 <br>\n",
    "接著後面還有一些可以調整的設定 : <br>\n",
    "* 是否進行標準化 (standard = False/True) <br>\n",
    "* 是否進行 PCA (pca = False/True) <br>\n",
    "* 進行 PCA 要保留多少主成分數量 (n_pc = n, $0 \\le n \\le 1$) <br>\n",
    "* 是否 PCA 的 pareto plot 顯示出來 (show_plot = False/True) <br>\n",
    "\n",
    "---\n",
    "\n",
    "**模型評估數值 (`evaluate_model`)** <br>\n",
    "輸入 測試集以及預測集 後 <br>\n",
    "就會返回 : <br>\n",
    "* accuracy <br>\n",
    "* precision <br>\n",
    "* recall <br>\n",
    "* F1-score <br>\n",
    "\n",
    "當中還有可能可以新增的功能 -- confusion matrix <br>"
   ]
  },
  {
   "cell_type": "markdown",
   "id": "f8d2622d",
   "metadata": {},
   "source": [
    "# 簡單介紹模型\n",
    "## MLR\n",
    "羅吉斯回歸的進化版 <br>\n",
    "用來處理多類別的分類 <br>\n",
    "使用邏輯函數對因變數和自變數之間的關係建模 <br>\n",
    "最後返回機率輸出 <br>\n",
    "也就是得到特定值的機率 <br>\n",
    "\n",
    "## SVM\n",
    "在多維度的空間中找出一個超平面 <br>\n",
    "把不同類別的資料點區隔開 <br>\n",
    "\n",
    "## NN--MLP\n",
    "Feedforward NN <br>\n",
    "只會向前傳遞 <br>\n",
    "利用互相連接的節點 (node) 組成 <br>\n",
    "利用梯度下降找到最佳值 <br>\n",
    "\n",
    "## NN--SEQ\n",
    "Feedforward NN <br>\n",
    "讓使用者進行堆疊 <br>\n",
    "可以放入不同層級建造出神經網路 <br>\n",
    "像是可以有全連接層、卷積層、池化層 <br>\n",
    "並且也有非常多的參數可以設置 <br>\n"
   ]
  },
  {
   "cell_type": "markdown",
   "id": "dcbaf6cf",
   "metadata": {},
   "source": [
    "# 介紹一些常用的超參數\n",
    "由於資料量並沒有很大 <br>\n",
    "蠻多可以設定的超參數都沒有放入進行 grid search <br>\n",
    "因此寫在下方 <br>"
   ]
  },
  {
   "cell_type": "markdown",
   "id": "eab706d3",
   "metadata": {},
   "source": [
    "## MLR\n",
    "這邊說明一些自己常用的超參數 : <br>\n",
    "* C : 設定正則化，C 越小代表正則化越強 (default = 1) <br>\n",
    "* solver : 設定優化的算法，分為 `\"lbfgs\"`、`\"liblinear\"`、`\"newton-cg\"`、`\"sag\"`、`\"saga\"` (default = \"lbfgs\") <br>\n",
    "* max_iter : 最大迭代次數 (default = 100) <br>\n",
    "* tol : 設定成本收斂到哪的時候停止 (default = 1e-4) <br>\n",
    "* penalty : 設定正則化方式，分為 `\"l1\"`(lasso)、`\"l2\"`(ridge)、`\"None\"` (default = \"l2\") <br>\n",
    "* class_weight : 設定類別的權重 (default = None) <br>\n",
    "* verbose : 是否輸出詳細訊息，分 0(不輸出)/1(輸出) (default = 0) <br>\n",
    "* multi_class : 設定分類方式，分為 `\"ovr\"`、`\"multinomial\"`、`\"auto\"` (default = \"auto\") <br>\n",
    "\n",
    "---\n",
    "\n",
    "補充--正則化 : <br>\n",
    "主要用於避免 overfitting <br>\n",
    "分為 lasso、ridge <br>\n",
    "* lasso : <br>\n",
    "$\\min\\limits_{w} \\frac{1}{m} \\left[\\ \\Sigma_{i} (y_i - w^T x_i)^2 + \\lambda \\Sigma_{j}^{n}|w_j|  \\ \\right]$ <br>\n",
    "常用於 sparse matrix <br>\n",
    "把資料弄得比較靠近，以盡量避免極端值 <br>\n",
    "並且最大的特色是將影響很小的係數變成 0 <br>\n",
    "相當於進行特徵篩選 <br>\n",
    "使得模型變得更簡潔 <br>\n",
    "不過也因為這樣可能會讓模型準確率下降 <br>\n",
    "\n",
    "* ridge : <br>\n",
    "$\\min\\limits_{w} \\frac{1}{m} \\left[\\ \\Sigma_{i} (y_i - w^T x_i)^2 + \\lambda \\Sigma_{j}^{n}w_j^2  \\ \\right]$ <br>\n",
    "跟 lasso 很像 <br>\n",
    "也是把資料弄得比較靠近，以盡量避免極端值 <br>\n",
    "但與 lasso 不同的是 <br>\n",
    "影響很小的係數是逼近於 0 而不是直接設地成 0 <br>\n",
    "使得各個特徵都能被保留下來 <br>\n",
    "並且成功地降低 noise <br>\n",
    "不過也因為這樣 <br>\n",
    "使得最終的模型還是會保留一些不重要的變數 <br>\n",
    "可能也是會影響到準確率 <br>\n",
    "\n",
    "---\n",
    "\n",
    "補充--solver : <br>\n",
    "* liblinear : 預設的 multi_class 會是 ovr(One-vs-Rest) <br>\n",
    "* lbfgs : 預設的 multi_class 會是 'auto'，也就是自動選擇 ovr 或 multinomial <br>\n",
    "* newton-cg : 預設的 multi_class 會是 'auto'，也就是自動選擇 ovr 或 multinomial <br>\n",
    "\n",
    "---\n",
    "\n",
    "作業中有使用到的 : <br>\n",
    "* C <br>\n",
    "* solver <br>\n",
    "* penalty <br>"
   ]
  },
  {
   "cell_type": "markdown",
   "id": "2f8e495f",
   "metadata": {},
   "source": [
    "## SVM\n",
    "這邊說明一些自己常用的超參數 : <br>\n",
    "* decision_function_shape : 決定輸出形狀，分為 `\"ovr\"`、`\"ovo\"` (default = \"ovr\") <br>\n",
    "* C : 設定正則化，C 越小代表正則化越強 (default = 1) <br>\n",
    "* tol : 設定成本收斂到哪的時候停止 (default = 1e-4) <br>\n",
    "* max_iter : 最大迭代次數 (default = 100) <br>\n",
    "* kernel : 設定核函數的種類，分為 `\"linear\"`（線性）、`\"poly\"`(多項式)、`\"rbf\"`(高斯) (default = \"rbf\") <br>\n",
    "* probability : 是否使用可能性估計，分 `\"False\"`、`\"True\"` (default = \"False\")\n",
    "* degree : 決定多項式的最高次方，只有當 kernal 設定為 \"polt\" 時才可以使用 <br>\n",
    "* gamma : 核函數的係數 (default = 1/特徵數) <br>\n",
    "* coef0 : 控制高次方與低次方的相對影響，屬於非線性，只有當 kernel = \"poly\"、\"rbf\" 才能使用 <br>\n",
    "* class_weight : 設定每個變數的權重 <br>\n",
    "\n",
    "---\n",
    "\n",
    "作業中有使用到的 : <br>\n",
    "* C <br>\n",
    "* kernel <br>\n",
    "* gamma <br>\n",
    "* coef0 <br>"
   ]
  },
  {
   "cell_type": "markdown",
   "id": "1215f1e1",
   "metadata": {},
   "source": [
    "## NN--MLP\n",
    "這邊說明一些自己常用的超參數 : <br>\n",
    "* activation : 設定激活函數，分為 `\"relu\"`, `\"tanh\"`, `\"logistic\"`, `\"identity\"` (default = \"relu\") <br>\n",
    "* solver : 設定優化的算法，分為 `\"sgd\"`、`\"lbfgs\"`、`\"adam\"` (default = \"lbfgs\") <br>\n",
    "* alpha: l2 正則化參數 (default = 0.0001) <br>\n",
    "* learning_rate_init : 初始學習率，只有當 solver = \"sgd\"、\"adam\" 才可以使用 <br>\n",
    "* learning_rate : 學習率，分為`\"constant\"`(固定的常數)，`\"adaptive\"`(使效率保持在)，`\"invscaling\"`(隨時間降低)，只有當 solver = \"sgd\" 才能使用 <br>\n",
    "* momentum : 梯度下降的動量，只有當 solver = \"sgd\" 才可以使用 <br>\n",
    "* batch_size : 批量大小，每次更新的樣本數 (default = \"auto\") <br>\n",
    "\n",
    "---\n",
    "\n",
    "補充--激活函數 : <br>\n",
    "\n",
    "\n",
    "\n",
    "--- \n",
    "\n",
    "作業中有使用到的 : <br>\n",
    "* activation\n",
    "* solver\n",
    "* alpha"
   ]
  },
  {
   "cell_type": "markdown",
   "id": "bd53f2b5",
   "metadata": {},
   "source": [
    "# NN--MLP\n",
    "\n",
    "activation =  'relu', 'tanh', 'logistic', 'identity'\n",
    "\n",
    "solver = ’sgd’, ’lbfgs’, 'adam'\n",
    "\n",
    "\n",
    "* alpha: 用于正则化项的参数，控制权重衰减（L2正则化）的强度。\n",
    "* learning_rate_init: 初始学习率。\n",
    "* learning_rate: 学习率的调整策略。可以是固定的 'constant'，自适应的 'adaptive' 或者 'invscaling'。\n",
    "* momentum: SGD更新时的动量，有助于加速收敛。\n",
    "* batch_size: 批量大小，用于随机梯度下降时每次更新的样本数。\n",
    "* early_stopping: 是否使用早期停止来防止过拟合。\n",
    "* validation_fraction: 用于早期停止的验证集比例。\n",
    "* n_iter_no_change: 用于早期停止的迭代次数。\n",
    "* beta_1, beta_2: Adam 优化器的指数衰减率估计。"
   ]
  },
  {
   "cell_type": "markdown",
   "id": "6db67e88",
   "metadata": {},
   "source": [
    "# 介紹評估指標"
   ]
  },
  {
   "cell_type": "markdown",
   "id": "eb6908ed",
   "metadata": {},
   "source": [
    "首先我們可以先從結果得到這 4 種分類 : <br>\n",
    "$TP$ : True Positive <br>\n",
    "$FP$ : False Positive <br>\n",
    "$FN$ : False Negative <br>\n",
    "$TN$ : True Negative <br>\n",
    "如同下表所示 : <br>\n",
    "\n",
    "|                | 預測結果 ($+$) | 預測結果 ($-$) |\n",
    "| -------------- | -------------- |:-------------- |\n",
    "| 真實狀態 ($+$) | $TP$             | $FN$             |\n",
    "| 真實狀態 ($-$) | $FP$             | $TN$             |"
   ]
  },
  {
   "cell_type": "markdown",
   "id": "30ddb785",
   "metadata": {},
   "source": [
    "接著我們可以寫出不同指標的公式 <br>\n",
    "製作成下表 : <br>\n",
    "\n",
    "| <div style=\"width:200px\">評估指標</div> | <div style=\"width:290px\">說明</div>    | <div style=\"width:250px\">定義</div>                            |\n",
    "| --------------------------------------- | -------------------------------------- |:-------------------------------------------------------------- |\n",
    "| 召回率(Recall)                          | 真實狀態為陽性其預測結果亦陽性的比率   | $\\cfrac{TP}{FN+FP}$                                            |\n",
    "| 特異度(Specificity)                     | 真實狀態為陰性其預測結果亦為陰性的比率 | $\\cfrac{TN}{FP+TN}$                                            |\n",
    "| 準確率(Accuracy)                        | 測量整體分類準確率                     | $\\cfrac{TP+TN}{TP+FP+TN+FN}$                                   |\n",
    "| 精確率(Precision)                       | 預測結果為陽性其真實狀態亦為陽性的比率 | $\\cfrac{TP}{TP+FP}$                                            |\n",
    "| F1-score                                | 考慮精確率及召回率下，測量準確程度     | $2 \\times \\cfrac{precision \\times recall}{precision + recall}$ |\n"
   ]
  },
  {
   "cell_type": "markdown",
   "id": "6354acff",
   "metadata": {},
   "source": [
    "# 根據此次作業的總結\n",
    "首先對於小資料 <br>\n",
    "我們可以發現不論是進行標準化或是 PCA <br>\n",
    "其實 2 者對最終的模型影響並不顯著 <br>\n",
    "而且 3 種模型的評估指標都非常高 <br>\n",
    "不論使用哪種準確率的差異都不大 <br>\n",
    "運行時間也不會花太久 <br>\n",
    "\n",
    "而對於大資料 <br>\n",
    "可以知道只有進行標準化的資料準確率會高出 PCA 一點 <br>\n",
    "猜測可能是因為 PCA 可能把一些變數篩掉了 <br>\n",
    "導致準確率下降 <br>\n",
    "但 3 種模型之間的差異並不會非常巨大 <br>\n",
    "評估指標都維持在一定的水準上 <br>\n",
    "不過使用進行過 PCA 的資料可以節省不少運算時間 <br>"
   ]
  },
  {
   "cell_type": "code",
   "execution_count": null,
   "id": "0e28436e",
   "metadata": {},
   "outputs": [],
   "source": []
  }
 ],
 "metadata": {
  "kernelspec": {
   "display_name": "Python 3 (ipykernel)",
   "language": "python",
   "name": "python3"
  },
  "language_info": {
   "codemirror_mode": {
    "name": "ipython",
    "version": 3
   },
   "file_extension": ".py",
   "mimetype": "text/x-python",
   "name": "python",
   "nbconvert_exporter": "python",
   "pygments_lexer": "ipython3",
   "version": "3.9.12"
  },
  "latex_envs": {
   "LaTeX_envs_menu_present": true,
   "autoclose": false,
   "autocomplete": true,
   "bibliofile": "biblio.bib",
   "cite_by": "apalike",
   "current_citInitial": 1,
   "eqLabelWithNumbers": true,
   "eqNumInitial": 1,
   "hotkeys": {
    "equation": "Ctrl-E",
    "itemize": "Ctrl-I"
   },
   "labels_anchors": false,
   "latex_user_defs": false,
   "report_style_numbering": false,
   "user_envs_cfg": false
  },
  "toc": {
   "base_numbering": 1,
   "nav_menu": {},
   "number_sections": true,
   "sideBar": true,
   "skip_h1_title": false,
   "title_cell": "Table of Contents",
   "title_sidebar": "Contents",
   "toc_cell": false,
   "toc_position": {},
   "toc_section_display": true,
   "toc_window_display": false
  },
  "varInspector": {
   "cols": {
    "lenName": 16,
    "lenType": 16,
    "lenVar": 40
   },
   "kernels_config": {
    "python": {
     "delete_cmd_postfix": "",
     "delete_cmd_prefix": "del ",
     "library": "var_list.py",
     "varRefreshCmd": "print(var_dic_list())"
    },
    "r": {
     "delete_cmd_postfix": ") ",
     "delete_cmd_prefix": "rm(",
     "library": "var_list.r",
     "varRefreshCmd": "cat(var_dic_list()) "
    }
   },
   "types_to_exclude": [
    "module",
    "function",
    "builtin_function_or_method",
    "instance",
    "_Feature"
   ],
   "window_display": false
  }
 },
 "nbformat": 4,
 "nbformat_minor": 5
}
